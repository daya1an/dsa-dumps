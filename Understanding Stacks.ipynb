{
 "cells": [
  {
   "cell_type": "code",
   "execution_count": 550,
   "id": "8e00fb14",
   "metadata": {},
   "outputs": [],
   "source": [
    "from collections import deque\n",
    "stack = deque()"
   ]
  },
  {
   "cell_type": "code",
   "execution_count": 551,
   "id": "d666c123",
   "metadata": {},
   "outputs": [],
   "source": [
    "# dir(stack)"
   ]
  },
  {
   "cell_type": "code",
   "execution_count": 552,
   "id": "9658243a",
   "metadata": {},
   "outputs": [
    {
     "data": {
      "text/plain": [
       "'91-DIVOC ereuqnoc lliw eW'"
      ]
     },
     "execution_count": 552,
     "metadata": {},
     "output_type": "execute_result"
    }
   ],
   "source": [
    "str = \"We will conquere COVID-19\"\n",
    "for char in str:\n",
    "    stack.appendleft(char)\n",
    "rev = \"\"\n",
    "for s in stack:\n",
    "    rev+=s\n",
    "\n",
    "rev"
   ]
  },
  {
   "cell_type": "code",
   "execution_count": null,
   "id": "79b69da9",
   "metadata": {},
   "outputs": [],
   "source": [
    "stack.clear()\n",
    "def is_balanced(txt):\n",
    "    bracket_map = {')': '(', '}': '{', ']': '['}\n",
    "    for t in txt:\n",
    "        if t in bracket_map.values():\n",
    "            stack.append(t)\n",
    "        elif t in bracket_map:\n",
    "            if not stack or stack.pop() != bracket_map[t]:\n",
    "                return False\n",
    "    return len(stack) == 0"
   ]
  },
  {
   "cell_type": "code",
   "execution_count": 554,
   "id": "13364a5f",
   "metadata": {},
   "outputs": [
    {
     "name": "stdout",
     "output_type": "stream",
     "text": [
      "True\n"
     ]
    }
   ],
   "source": [
    "print(is_balanced(\"((()))\"))"
   ]
  },
  {
   "cell_type": "code",
   "execution_count": null,
   "id": "ed38d984",
   "metadata": {},
   "outputs": [],
   "source": []
  },
  {
   "cell_type": "code",
   "execution_count": 555,
   "id": "57297e27",
   "metadata": {},
   "outputs": [],
   "source": [
    "class Stack:\n",
    "\n",
    "    def __init__(self):\n",
    "        self.container = deque()\n",
    "    \n",
    "    def push(self,e):\n",
    "        self.container.append(e)\n",
    "    \n",
    "    def pop(self):\n",
    "        return self.container.pop()\n",
    "    \n",
    "    def peek(self):\n",
    "        return self.container[-1]\n",
    "    \n",
    "    def isEmpty(self):\n",
    "        return len(self.container)==0\n",
    "    \n",
    "    def size(self):\n",
    "        return len(self.container)\n",
    "    \n",
    "    def display(self):\n",
    "        return self.container\n",
    "    "
   ]
  },
  {
   "cell_type": "code",
   "execution_count": 556,
   "id": "43512fbb",
   "metadata": {},
   "outputs": [
    {
     "data": {
      "text/plain": [
       "2"
      ]
     },
     "execution_count": 556,
     "metadata": {},
     "output_type": "execute_result"
    }
   ],
   "source": [
    "myStack = Stack()\n",
    "myStack.push(1)\n",
    "myStack.push(2)\n",
    "myStack.size()"
   ]
  },
  {
   "cell_type": "code",
   "execution_count": 557,
   "id": "ceca3d56",
   "metadata": {},
   "outputs": [
    {
     "data": {
      "text/plain": [
       "2"
      ]
     },
     "execution_count": 557,
     "metadata": {},
     "output_type": "execute_result"
    }
   ],
   "source": [
    "myStack.peek()"
   ]
  },
  {
   "cell_type": "code",
   "execution_count": 558,
   "id": "8aedfc7e",
   "metadata": {},
   "outputs": [
    {
     "data": {
      "text/plain": [
       "2"
      ]
     },
     "execution_count": 558,
     "metadata": {},
     "output_type": "execute_result"
    }
   ],
   "source": [
    "myStack.pop()"
   ]
  },
  {
   "cell_type": "code",
   "execution_count": 559,
   "id": "d7deb7d5",
   "metadata": {},
   "outputs": [
    {
     "data": {
      "text/plain": [
       "1"
      ]
     },
     "execution_count": 559,
     "metadata": {},
     "output_type": "execute_result"
    }
   ],
   "source": [
    "myStack.peek()"
   ]
  },
  {
   "cell_type": "code",
   "execution_count": 560,
   "id": "ab136626",
   "metadata": {},
   "outputs": [
    {
     "data": {
      "text/plain": [
       "False"
      ]
     },
     "execution_count": 560,
     "metadata": {},
     "output_type": "execute_result"
    }
   ],
   "source": [
    "myStack.isEmpty()"
   ]
  },
  {
   "cell_type": "code",
   "execution_count": 561,
   "id": "e656d52d",
   "metadata": {},
   "outputs": [
    {
     "data": {
      "text/plain": [
       "1"
      ]
     },
     "execution_count": 561,
     "metadata": {},
     "output_type": "execute_result"
    }
   ],
   "source": [
    "myStack.pop()"
   ]
  },
  {
   "cell_type": "code",
   "execution_count": 562,
   "id": "ff2c3d09",
   "metadata": {},
   "outputs": [
    {
     "data": {
      "text/plain": [
       "True"
      ]
     },
     "execution_count": 562,
     "metadata": {},
     "output_type": "execute_result"
    }
   ],
   "source": [
    "myStack.isEmpty()"
   ]
  },
  {
   "cell_type": "code",
   "execution_count": null,
   "id": "9f6b911c",
   "metadata": {},
   "outputs": [],
   "source": []
  }
 ],
 "metadata": {
  "kernelspec": {
   "display_name": "Python 3",
   "language": "python",
   "name": "python3"
  },
  "language_info": {
   "codemirror_mode": {
    "name": "ipython",
    "version": 3
   },
   "file_extension": ".py",
   "mimetype": "text/x-python",
   "name": "python",
   "nbconvert_exporter": "python",
   "pygments_lexer": "ipython3",
   "version": "3.10.11"
  }
 },
 "nbformat": 4,
 "nbformat_minor": 5
}
