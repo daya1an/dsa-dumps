{
 "cells": [
  {
   "cell_type": "code",
   "execution_count": 7,
   "id": "5ba125ff",
   "metadata": {},
   "outputs": [
    {
     "data": {
      "text/html": [
       "<div>\n",
       "<style scoped>\n",
       "    .dataframe tbody tr th:only-of-type {\n",
       "        vertical-align: middle;\n",
       "    }\n",
       "\n",
       "    .dataframe tbody tr th {\n",
       "        vertical-align: top;\n",
       "    }\n",
       "\n",
       "    .dataframe thead th {\n",
       "        text-align: right;\n",
       "    }\n",
       "</style>\n",
       "<table border=\"1\" class=\"dataframe\">\n",
       "  <thead>\n",
       "    <tr style=\"text-align: right;\">\n",
       "      <th></th>\n",
       "      <th>date</th>\n",
       "      <th>temperature(F)</th>\n",
       "    </tr>\n",
       "  </thead>\n",
       "  <tbody>\n",
       "    <tr>\n",
       "      <th>0</th>\n",
       "      <td>Jan 1</td>\n",
       "      <td>27</td>\n",
       "    </tr>\n",
       "    <tr>\n",
       "      <th>1</th>\n",
       "      <td>Jan 2</td>\n",
       "      <td>31</td>\n",
       "    </tr>\n",
       "    <tr>\n",
       "      <th>2</th>\n",
       "      <td>Jan 3</td>\n",
       "      <td>23</td>\n",
       "    </tr>\n",
       "    <tr>\n",
       "      <th>3</th>\n",
       "      <td>Jan 4</td>\n",
       "      <td>34</td>\n",
       "    </tr>\n",
       "    <tr>\n",
       "      <th>4</th>\n",
       "      <td>Jan 5</td>\n",
       "      <td>37</td>\n",
       "    </tr>\n",
       "  </tbody>\n",
       "</table>\n",
       "</div>"
      ],
      "text/plain": [
       "    date  temperature(F)\n",
       "0  Jan 1              27\n",
       "1  Jan 2              31\n",
       "2  Jan 3              23\n",
       "3  Jan 4              34\n",
       "4  Jan 5              37"
      ]
     },
     "execution_count": 7,
     "metadata": {},
     "output_type": "execute_result"
    }
   ],
   "source": [
    "import pandas as pd\n",
    "\n",
    "nycw = pd.read_csv('nyc_weather.csv')\n",
    "\n",
    "nycw.head()"
   ]
  },
  {
   "cell_type": "code",
   "execution_count": 23,
   "id": "4edf4426",
   "metadata": {},
   "outputs": [
    {
     "name": "stdout",
     "output_type": "stream",
     "text": [
      "{'Jan 1': 27, 'Jan 2': 31, 'Jan 3': 23, 'Jan 4': 34, 'Jan 5': 37, 'Jan 6': 38, 'Jan 7': 29, 'Jan 8': 30, 'Jan 9': 35, 'Jan 10': 30}\n",
      "Average Temprature:  31.4\n"
     ]
    }
   ],
   "source": [
    "data = {}\n",
    "for index, row in nycw.iterrows():\n",
    "    # print(index, row[\"date\"], row[\"temperature(F)\"])\n",
    "    data[row[\"date\"]] = row[\"temperature(F)\"]\n",
    "\n",
    "print(data)\n",
    "\n",
    "sum = 0\n",
    "for v in data.values():\n",
    "    sum = sum + v\n",
    "\n",
    "print(\"Average Temprature: \",sum/len(data))"
   ]
  },
  {
   "cell_type": "code",
   "execution_count": 29,
   "id": "b4e99535",
   "metadata": {},
   "outputs": [
    {
     "name": "stdout",
     "output_type": "stream",
     "text": [
      "Max Temperature:  38\n",
      "temperature on Jan 9:  35\n",
      "temperature on Jan 4:  34\n"
     ]
    }
   ],
   "source": [
    "print(\"Max Temperature: \",max(data.values()))\n",
    "print(\"temperature on Jan 9: \", data['Jan 9'])\n",
    "print(\"temperature on Jan 4: \", data['Jan 4'])\n"
   ]
  },
  {
   "cell_type": "code",
   "execution_count": 35,
   "id": "9069cb42",
   "metadata": {},
   "outputs": [
    {
     "name": "stdout",
     "output_type": "stream",
     "text": [
      "{'Two': 3, 'roads': 5, 'diverged': 8, 'in': 2, 'a': 1, 'yellow': 6, 'wood,': 5, 'And': 3, 'sorry': 5, 'I': 1, 'could': 5, 'not': 3, 'travel': 6, 'both': 4, 'be': 2, 'one': 3, 'traveler,': 9, 'long': 4, 'stood': 5, 'looked': 6, 'down': 4, 'as': 2, 'far': 3, 'To': 2, 'where': 5, 'it': 2, 'bent': 4, 'the': 3, 'undergrowth;': 12, 'Then': 4, 'took': 4, 'other,': 6, 'just': 4, 'fair,': 5, 'having': 6, 'perhaps': 7, 'better': 6, 'claim,': 6, 'Because': 7, 'was': 3, 'grassy': 6, 'and': 3, 'wanted': 6, 'wear;': 5, 'Though': 6, 'for': 3, 'that': 4, 'passing': 7, 'there': 5, 'Had': 3, 'worn': 4, 'them': 4, 'really': 6, 'about': 5, 'same,': 5, 'morning': 7, 'equally': 7, 'lay': 3, 'In': 2, 'leaves': 6, 'no': 2, 'step': 4, 'had': 3, 'trodden': 7, 'black.': 6, 'Oh,': 3, 'kept': 4, 'first': 5, 'another': 7, 'day!': 4, 'Yet': 3, 'knowing': 7, 'how': 3, 'way': 3, 'leads': 5, 'on': 2, 'to': 2, 'way,': 4, 'doubted': 7, 'if': 2, 'should': 6, 'ever': 4, 'come': 4, 'back.': 5, 'shall': 5, 'telling': 7, 'this': 4, 'with': 4, 'sigh': 4, 'Somewhere': 9, 'ages': 4, 'hence:': 6, 'Iâ€”': 4, 'less': 4, 'traveled': 8, 'by,': 3, 'has': 3, 'made': 4, 'all': 3, 'difference.': 11}\n"
     ]
    }
   ],
   "source": [
    "wordsCount = {}\n",
    "with open(\"poem.txt\", \"r\") as file:\n",
    "    for line in file:\n",
    "        for word in line.split():\n",
    "            wordsCount[word] = len(word)\n",
    "\n",
    "print(wordsCount)\n",
    "        \n",
    "\n",
    "# print(content)"
   ]
  }
 ],
 "metadata": {
  "kernelspec": {
   "display_name": "Python 3",
   "language": "python",
   "name": "python3"
  },
  "language_info": {
   "codemirror_mode": {
    "name": "ipython",
    "version": 3
   },
   "file_extension": ".py",
   "mimetype": "text/x-python",
   "name": "python",
   "nbconvert_exporter": "python",
   "pygments_lexer": "ipython3",
   "version": "3.10.11"
  }
 },
 "nbformat": 4,
 "nbformat_minor": 5
}
